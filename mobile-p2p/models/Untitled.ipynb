{
 "cells": [
  {
   "cell_type": "code",
   "execution_count": 6,
   "metadata": {},
   "outputs": [
    {
     "name": "stdout",
     "output_type": "stream",
     "text": [
      "Looking in indexes: http://mirrors.oa.com/pypi/web/simple\n",
      "Requirement already satisfied: torchsummaryX in /opt/conda/envs/canary/lib/python3.6/site-packages (1.3.0)\n",
      "Requirement already satisfied: torch in /opt/conda/envs/canary/lib/python3.6/site-packages (from torchsummaryX) (1.4.0)\n",
      "Requirement already satisfied: numpy in /opt/conda/envs/canary/lib/python3.6/site-packages (from torchsummaryX) (1.18.1)\n",
      "Requirement already satisfied: pandas in /opt/conda/envs/canary/lib/python3.6/site-packages (from torchsummaryX) (1.0.1)\n",
      "Requirement already satisfied: pytz>=2017.2 in /opt/conda/envs/canary/lib/python3.6/site-packages (from pandas->torchsummaryX) (2019.3)\n",
      "Requirement already satisfied: python-dateutil>=2.6.1 in /opt/conda/envs/canary/lib/python3.6/site-packages (from pandas->torchsummaryX) (2.8.1)\n",
      "Requirement already satisfied: six>=1.5 in /opt/conda/envs/canary/lib/python3.6/site-packages (from python-dateutil>=2.6.1->pandas->torchsummaryX) (1.14.0)\n",
      "here\n",
      "Cond_Patch_Discriminator(\n",
      "  (main): Sequential(\n",
      "    (0): Conv2d(6, 64, kernel_size=(4, 4), stride=(2, 2), padding=(1, 1))\n",
      "    (1): LeakyReLU(negative_slope=0.2, inplace=True)\n",
      "    (2): Conv2d(64, 128, kernel_size=(4, 4), stride=(2, 2), padding=(1, 1))\n",
      "    (3): LeakyReLU(negative_slope=0.2, inplace=True)\n",
      "    (4): Conv2d(128, 256, kernel_size=(4, 4), stride=(2, 2), padding=(1, 1))\n",
      "    (5): LeakyReLU(negative_slope=0.2, inplace=True)\n",
      "    (6): Conv2d(256, 512, kernel_size=(4, 4), stride=(2, 2), padding=(1, 1))\n",
      "    (7): LeakyReLU(negative_slope=0.2, inplace=True)\n",
      "    (8): Conv2d(512, 1, kernel_size=(4, 4), stride=(1, 1), padding=(1, 1))\n",
      "  )\n",
      ")\n",
      "Traceback (most recent call last):\n",
      "  File \"realtime_gan.py\", line 134, in <module>\n",
      "    summary(net, torch.zeros((1, 3, 256, 256)))\n",
      "  File \"/usr/local/app/canary/lib/python3.6/site-packages/torchsummaryX/torchsummaryX.py\", line 86, in summary\n",
      "    model(x) if not (kwargs or args) else model(x, *args, **kwargs)\n",
      "  File \"/usr/local/app/canary/lib/python3.6/site-packages/torch/nn/modules/module.py\", line 532, in __call__\n",
      "    result = self.forward(*input, **kwargs)\n",
      "  File \"realtime_gan.py\", line 127, in forward\n",
      "    return self.main(x)\n",
      "  File \"/usr/local/app/canary/lib/python3.6/site-packages/torch/nn/modules/module.py\", line 532, in __call__\n",
      "    result = self.forward(*input, **kwargs)\n",
      "  File \"/usr/local/app/canary/lib/python3.6/site-packages/torch/nn/modules/container.py\", line 100, in forward\n",
      "    input = module(input)\n",
      "  File \"/usr/local/app/canary/lib/python3.6/site-packages/torch/nn/modules/module.py\", line 532, in __call__\n",
      "    result = self.forward(*input, **kwargs)\n",
      "  File \"/usr/local/app/canary/lib/python3.6/site-packages/torch/nn/modules/conv.py\", line 345, in forward\n",
      "    return self.conv2d_forward(input, self.weight)\n",
      "  File \"/usr/local/app/canary/lib/python3.6/site-packages/torch/nn/modules/conv.py\", line 342, in conv2d_forward\n",
      "    self.padding, self.dilation, self.groups)\n",
      "RuntimeError: Given groups=1, weight of size 64 6 4 4, expected input[1, 3, 256, 256] to have 6 channels, but got 3 channels instead\n"
     ]
    }
   ],
   "source": [
    "!pip install torchsummaryX\n",
    "!python realtime_gan.py"
   ]
  },
  {
   "cell_type": "code",
   "execution_count": null,
   "metadata": {},
   "outputs": [],
   "source": []
  }
 ],
 "metadata": {
  "hide_input": false,
  "kernelspec": {
   "display_name": "Environment (conda_canary)",
   "language": "python",
   "name": "conda_canary"
  },
  "language_info": {
   "codemirror_mode": {
    "name": "ipython",
    "version": 3
   },
   "file_extension": ".py",
   "mimetype": "text/x-python",
   "name": "python",
   "nbconvert_exporter": "python",
   "pygments_lexer": "ipython3",
   "version": "3.6.10"
  },
  "toc": {
   "base_numbering": 1,
   "nav_menu": {},
   "number_sections": true,
   "sideBar": true,
   "skip_h1_title": false,
   "title_cell": "Table of Contents",
   "title_sidebar": "Contents",
   "toc_cell": false,
   "toc_position": {},
   "toc_section_display": true,
   "toc_window_display": false
  }
 },
 "nbformat": 4,
 "nbformat_minor": 4
}
