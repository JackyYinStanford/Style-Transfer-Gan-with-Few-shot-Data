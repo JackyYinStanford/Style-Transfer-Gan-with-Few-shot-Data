{
 "cells": [
  {
   "cell_type": "code",
   "execution_count": null,
   "metadata": {},
   "outputs": [],
   "source": [
    "#!pip install opencv_transforms\n",
    "import argparse\n",
    "import os\n",
    "import sys\n",
    "import numpy as np\n",
    "import matplotlib\n",
    "#matplotlib.use('Agg')\n",
    "import matplotlib.pyplot as plt\n",
    "\n",
    "import torch\n",
    "import torch.autograd as autograd\n",
    "import torch.optim as optim\n",
    "\n",
    "import cv2\n",
    "from datasets.test_aug_SR import SRDataset\n",
    "\n",
    "from opencv_transforms import transforms as transform_cv2\n",
    "from torchvision import transforms as T\n",
    "from torch.utils.data import Dataset, DataLoader\n",
    "\n",
    "data = SRDataset(dataroot='/data/data/imageSR/vecky400/train/')\n",
    "train_dataset = DataLoader(data, batch_size=4,shuffle=True)\n",
    "\n",
    "from torchvision import utils\n",
    "for i_batch, sample in enumerate(train_dataset):\n",
    "    if 1:#i_batch == 80:\n",
    "        img = sample['A'].numpy()        \n",
    "        img2 = img.transpose(1,2,0).copy()\n",
    "        \n",
    "        cv2.rectangle(img2,(int(256*bbox[0]), int(256*bbox[1])),( int(256*bbox[0] + 256*bbox[2]), int(256*bbox[1] + 256*bbox[3])),(0,255,255), 2)\n",
    "\n",
    "        fig = plt.figure()\n",
    "        img = img2.transpose(2,0,1)\n",
    "        sample['image'] = torch.from_numpy(img)\n",
    "        grid = utils.make_grid(sample['image'])\n",
    "        plt.imshow(grid.numpy().transpose((1, 2, 0)))\n",
    "        plt.show()\n",
    "        #break"
   ]
  },
  {
   "cell_type": "code",
   "execution_count": null,
   "metadata": {},
   "outputs": [],
   "source": [
    "import data.ffhqSR_dataset\n",
    "# import data.aligned_hair_face_dataset\n",
    "print(1)"
   ]
  },
  {
   "cell_type": "code",
   "execution_count": null,
   "metadata": {
    "scrolled": false
   },
   "outputs": [],
   "source": [
    "import os \n",
    "os.system('sh /data/pytorch-CycleGAN-and-pix2pix-master/train.sh \\\n",
    "--crop_size 256 \\\n",
    "--model defaultpix2pix \\\n",
    "--name test_ffhqSuperResolution \\\n",
    "--ngf 16 \\\n",
    "--ndf 64 \\\n",
    "--gan_mode vanilla \\\n",
    "--netD basic \\\n",
    "--dataset_mode ffhqSR \\\n",
    "--norm batch \\\n",
    "--batch_size 200 \\\n",
    "--gpu_ids 0,1,2,3,4,5,6,7\\\n",
    "--netG unet_256 \\\n",
    "--load_memory \\\n",
    "--lambda_L1 100.0 \\\n",
    "--dataroot /data/data/ffhqSR \\\n",
    "1>/data/Log/ffhqSR/log1.log 2>/data/Log/ffhqSR/err1.log')"
   ]
  },
  {
   "cell_type": "code",
   "execution_count": null,
   "metadata": {},
   "outputs": [],
   "source": [
    "from models.loss import ssim\n",
    "import os\n",
    "from PIL import Image\n",
    "from torch.autograd import Variable\n",
    "import torchvision.utils as vutils\n",
    "import torchvision.transforms as transforms\n",
    "import cv2\n",
    "# 载入数据\n",
    "# compute loss def ssim(img1, img2):\n",
    "mean = [0.5, 0.5, 0.5] \n",
    "std = [0.5, 0.5, 0.5] \n",
    "pil_transforms = transforms.Compose([\n",
    "                transforms.ToTensor(),\n",
    "                transforms.Normalize(mean=mean, std=std),\n",
    "            ])\n",
    "\n",
    "def trans_data(path):\n",
    "    img = cv2.imread(path)\n",
    "    img = cv2.cvtColor(img,cv2.COLOR_BGR2RGB)\n",
    "    img = img[120-60:120+270,102+10:102+265-10,:]\n",
    "    img = cv2.resize(img, (256, 256)) \n",
    "    img = Image.fromarray(np.uint8(img))\n",
    "    w, h = img.size\n",
    "    img = pil_transforms(img)        \n",
    "    return img\n",
    "\n",
    "dataroot = '/data/facecyclegan/pairs_for_distill/step2_crop7_male2beauty_stylegan_cyc50_vgg10'\n",
    "img_files = os.listdir(dataroot)[:200]\n",
    "img_files_list = [dataroot + f for f in img_files]\n",
    "\n",
    "out_dir = '/data/data/forTest'\n",
    "# for test\n",
    "img_files_list = img_files_list[0]\n",
    "\n",
    "for path in img_files_list:\n",
    "    print(path)\n",
    "    img = trans_data(path)  # crop掉一半\n",
    "    tensor = torch.unsqueeze(img, dim=0).float()\n",
    "    vutils.save(tensor, out_dir + '/test.png')\n"
   ]
  },
  {
   "cell_type": "code",
   "execution_count": null,
   "metadata": {},
   "outputs": [],
   "source": []
  }
 ],
 "metadata": {
  "kernelspec": {
   "display_name": "Environment (conda_canary)",
   "language": "python",
   "name": "conda_canary"
  },
  "language_info": {
   "codemirror_mode": {
    "name": "ipython",
    "version": 3
   },
   "file_extension": ".py",
   "mimetype": "text/x-python",
   "name": "python",
   "nbconvert_exporter": "python",
   "pygments_lexer": "ipython3",
   "version": "3.6.10"
  },
  "toc": {
   "base_numbering": 1,
   "nav_menu": {},
   "number_sections": true,
   "sideBar": true,
   "skip_h1_title": false,
   "title_cell": "Table of Contents",
   "title_sidebar": "Contents",
   "toc_cell": false,
   "toc_position": {},
   "toc_section_display": true,
   "toc_window_display": false
  }
 },
 "nbformat": 4,
 "nbformat_minor": 4
}
